{
 "cells": [
  {
   "cell_type": "markdown",
   "id": "beca598d",
   "metadata": {},
   "source": [
    "# Python Basics\n",
    "\n",
    "In this task, we'll explore some of the foundational elements of Python programming, focusing on native Python features. This assignment is designed to be completed using Jupyter Notebooks, which will allow you to run and test your code interactively."
   ]
  },
  {
   "cell_type": "markdown",
   "id": "47bb240e",
   "metadata": {},
   "source": [
    "## Objectives\n",
    "\n",
    "By the end of this assignment, you will:\n",
    "\n",
    "1. Understand and use basic arithmetic operations in Python.\n",
    "2. Assign and manipulate variables.\n",
    "3. Use basic comparison and logical operators.\n",
    "4. Seek help in Python using built-in functions.\n",
    "5. Manage and interpret some common error messages.\n",
    "6. Use several special characters (`;`, `\\`, `{}`, `()`, and `[]`) in basic Python code."
   ]
  },
  {
   "cell_type": "markdown",
   "id": "2c7e8171",
   "metadata": {},
   "source": [
    "## Getting Started\n",
    "\n",
    "Clone this repository to your local machine and open the provided Jupyter Notebook (`python_fundamentals.ipynb`) in Jupyter Notebook."
   ]
  },
  {
   "cell_type": "markdown",
   "id": "3c83be1a",
   "metadata": {},
   "source": [
    "## 1. Basic Arithmetic Operations in Python\n",
    "\n",
    "Python provides several native operations that you will use frequently. In this section, you will practice the following operations:\n",
    "\n",
    "- Addition (`+`)\n",
    "- Subtraction (`-`)\n",
    "- Multiplication (`*`)\n",
    "- Division (`/`)\n",
    "- Floor Division (`//`)\n",
    "- Modulus (`%`)\n",
    "- Exponentiation (`**`)"
   ]
  },
  {
   "cell_type": "code",
   "execution_count": null,
   "id": "5eb760d2",
   "metadata": {},
   "outputs": [],
   "source": [
    "# Example of basic arithmetic operations\n",
    "# You can run these code cells to see the output\n",
    "\n",
    "# Addition\n",
    "result = 2 + 3\n",
    "result"
   ]
  },
  {
   "cell_type": "code",
   "execution_count": null,
   "id": "987d6f2c",
   "metadata": {},
   "outputs": [],
   "source": [
    "# Subtraction\n",
    "result = 5 - 2\n",
    "result"
   ]
  },
  {
   "cell_type": "code",
   "execution_count": null,
   "id": "b1274f1c",
   "metadata": {},
   "outputs": [],
   "source": [
    "# Multiplication\n",
    "result = 4 * 3\n",
    "result"
   ]
  },
  {
   "cell_type": "code",
   "execution_count": null,
   "id": "f943b4f5",
   "metadata": {},
   "outputs": [],
   "source": [
    "# Division\n",
    "result = 10 / 2\n",
    "result"
   ]
  },
  {
   "cell_type": "code",
   "execution_count": null,
   "id": "b2135ebf",
   "metadata": {},
   "outputs": [],
   "source": [
    "# Floor Division\n",
    "result = 10 // 3\n",
    "result"
   ]
  },
  {
   "cell_type": "code",
   "execution_count": null,
   "id": "439b1a38",
   "metadata": {},
   "outputs": [],
   "source": [
    "# Modulus\n",
    "result = 10 % 3\n",
    "result"
   ]
  },
  {
   "cell_type": "code",
   "execution_count": null,
   "id": "471f9466",
   "metadata": {},
   "outputs": [],
   "source": [
    "# Exponentiation\n",
    "result = 2 ** 3\n",
    "result"
   ]
  },
  {
   "cell_type": "markdown",
   "id": "4eeac8ab",
   "metadata": {},
   "source": [
    "## 2. Assigning and Manipulating Variables\n",
    "\n",
    "In Python, you can easily assign values to variables and then use these variables in operations. Let's practice with some simple examples:"
   ]
  },
  {
   "cell_type": "code",
   "execution_count": null,
   "id": "c6c94389",
   "metadata": {},
   "outputs": [],
   "source": [
    "# Assigning variables\n",
    "x = 5\n",
    "y = 10\n",
    "\n",
    "# Manipulating variables\n",
    "sum_xy = x + y\n",
    "diff_xy = y - x\n",
    "product_xy = x * y\n",
    "\n",
    "sum_xy, diff_xy, product_xy"
   ]
  },
  {
   "cell_type": "markdown",
   "id": "a15a8588",
   "metadata": {},
   "source": [
    "## 3. Basic Comparison and Logical Operators\n",
    "\n",
    "Python allows you to compare values using comparison operators and combine conditions using logical operators. Let's explore some examples:"
   ]
  },
  {
   "cell_type": "code",
   "execution_count": null,
   "id": "4c528c0d",
   "metadata": {},
   "outputs": [],
   "source": [
    "# Comparison operators\n",
    "x = 10\n",
    "y = 15\n",
    "\n",
    "is_equal = x == y\n",
    "is_not_equal = x != y\n",
    "is_greater = x > y\n",
    "is_less_equal = x <= y\n",
    "\n",
    "is_equal, is_not_equal, is_greater, is_less_equal"
   ]
  },
  {
   "cell_type": "code",
   "execution_count": null,
   "id": "d49d425d",
   "metadata": {},
   "outputs": [],
   "source": [
    "# Logical operators\n",
    "x = True\n",
    "y = False\n",
    "\n",
    "and_operation = x and y\n",
    "or_operation = x or y\n",
    "not_operation = not x\n",
    "\n",
    "and_operation, or_operation, not_operation"
   ]
  },
  {
   "cell_type": "markdown",
   "id": "4bd1a3d4",
   "metadata": {},
   "source": [
    "## 4. Seeking Help in Python\n",
    "\n",
    "Python has built-in functions to help you understand how to use various commands or find out what certain errors mean. You can use the `help()` function or the `?` symbol to access documentation:"
   ]
  },
  {
   "cell_type": "code",
   "execution_count": null,
   "id": "2388553a",
   "metadata": {},
   "outputs": [],
   "source": [
    "# Using help() function\\help(print)"
   ]
  },
  {
   "cell_type": "code",
   "execution_count": null,
   "id": "433c54c9",
   "metadata": {},
   "outputs": [],
   "source": [
    "# Using ? for documentation\n",
    "print?"
   ]
  },
  {
   "cell_type": "markdown",
   "id": "0c58b199",
   "metadata": {},
   "source": [
    "## 5. Common Error Messages\n",
    "\n",
    "As you code in Python, you might encounter some common error messages. Let's see some examples and understand what they mean:"
   ]
  },
  {
   "cell_type": "code",
   "execution_count": null,
   "id": "26406f75",
   "metadata": {},
   "outputs": [],
   "source": [
    "# Example of a NameError\n",
    "# Uncomment the following line to see the error\n",
    "# print(unknown_variable)"
   ]
  },
  {
   "cell_type": "code",
   "execution_count": null,
   "id": "75d1a5c2",
   "metadata": {},
   "outputs": [],
   "source": [
    "# Example of a TypeError\n",
    "# Uncomment the following line to see the error\n",
    "# result = '2' + 2"
   ]
  },
  {
   "cell_type": "markdown",
   "id": "11f447b1",
   "metadata": {},
   "source": [
    "## 6. Using Special Characters in Python\n",
    "\n",
    "Python uses several special characters that have unique meanings in code. Here are some examples:"
   ]
  },
  {
   "cell_type": "code",
   "execution_count": null,
   "id": "24fa1594",
   "metadata": {},
   "outputs": [],
   "source": [
    "# Semicolon allows multiple statements on a single line\n",
    "x = 5; y = 10; result = x + y; result"
   ]
  },
  {
   "cell_type": "code",
   "execution_count": null,
   "id": "691bae97",
   "metadata": {},
   "outputs": [],
   "source": [
    "# Backslash for line continuation\n",
    "sum_result = 1 + 2 + 3 + \\\n",
    "             4 + 5 + 6\n",
    "sum_result"
   ]
  },
  {
   "cell_type": "code",
   "execution_count": null,
   "id": "354ae500",
   "metadata": {},
   "outputs": [],
   "source": [
    "# Curly braces for string formatting\n",
    "name = 'John'\n",
    "greeting = f'Hello, {name}!'\n",
    "greeting"
   ]
  },
  {
   "cell_type": "code",
   "execution_count": null,
   "id": "a487cec7",
   "metadata": {},
   "outputs": [],
   "source": [
    "# Parentheses for grouping and calling functions\n",
    "result = (2 + 3) * 4\n",
    "result"
   ]
  },
  {
   "cell_type": "code",
   "execution_count": null,
   "id": "d87bfbfa",
   "metadata": {},
   "outputs": [],
   "source": [
    "# Square brackets for list indexing\n",
    "numbers = [10, 20, 30, 40]\n",
    "first_number = numbers[0]\n",
    "first_number"
   ]
  }
 ],
 "metadata": {},
 "nbformat": 4,
 "nbformat_minor": 5
}
